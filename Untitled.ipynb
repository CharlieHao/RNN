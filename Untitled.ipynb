{
 "cells": [
  {
   "cell_type": "code",
   "execution_count": 1,
   "metadata": {},
   "outputs": [
    {
     "name": "stdout",
     "output_type": "stream",
     "text": [
      "RNN_case3_tf.py          \u001b[34m__pycache__\u001b[m\u001b[m/             utils.py\r\n",
      "RNN_single_target_tf.py  \u001b[34mdata\u001b[m\u001b[m/\r\n",
      "Untitled.ipynb           test_parity.py\r\n"
     ]
    }
   ],
   "source": [
    "ls"
   ]
  },
  {
   "cell_type": "code",
   "execution_count": 1,
   "metadata": {},
   "outputs": [],
   "source": [
    "import tensorflow as tf \n",
    "import numpy as np\n",
    "import matplotlib.pyplot as plt \n",
    "from sklearn.utils import shuffle\n",
    "from utils import init_params,get_robert_frost, get_wikipedia_data\n",
    "from RNN_case3_tf import RNN_with_embedding"
   ]
  },
  {
   "cell_type": "code",
   "execution_count": 2,
   "metadata": {
    "collapsed": true
   },
   "outputs": [],
   "source": [
    "def train_poetry(session,dims,filename):\n",
    "    sentence,word2idx = get_robert_frost()\n",
    "    rnn = RNN_with_embedding(dims,dims,len(word2idx),tf.nn.relu,session)\n",
    "    rnn.fit(sentence,epoches=15,show_fig=True)\n",
    "    rnn.save_files(filename)"
   ]
  },
  {
   "cell_type": "code",
   "execution_count": 3,
   "metadata": {
    "collapsed": true
   },
   "outputs": [],
   "source": [
    "def generate_poetry(session,filename):\n",
    "    setences,word2idx = get_robert_frost()\n",
    "    rnn = RNN_with_embedding.load(filename,tf.nn.relu,session)\n",
    "    V = len(word2idx)\n",
    "    pi = np.zeros(V)\n",
    "    for s in sentences:\n",
    "        pi[setences[0]]+=1\n",
    "    pi/=pi.sum()\n",
    "    rnn.generate(pi,word2idx)"
   ]
  },
  {
   "cell_type": "code",
   "execution_count": 4,
   "metadata": {},
   "outputs": [
    {
     "name": "stdout",
     "output_type": "stream",
     "text": [
      "iteration: 0 correct rate: 0.127596682814681\n",
      "iteration: 1 correct rate: 0.1338369324246654\n",
      "iteration: 2 correct rate: 0.13326217259216686\n",
      "iteration: 3 correct rate: 0.13432958370966416\n",
      "iteration: 4 correct rate: 0.1353969948271615\n",
      "iteration: 5 correct rate: 0.13449380080466378\n",
      "iteration: 6 correct rate: 0.13416536661466458\n",
      "iteration: 7 correct rate: 0.13465801789966336\n",
      "iteration: 8 correct rate: 0.13301584694966745\n",
      "iteration: 9 correct rate: 0.13490434354216274\n",
      "iteration: 10 correct rate: 0.13342638968716644\n",
      "iteration: 11 correct rate: 0.13424747516216437\n",
      "iteration: 12 correct rate: 0.1353148862796617\n",
      "iteration: 13 correct rate: 0.13367271532966582\n",
      "iteration: 14 correct rate: 0.1353148862796617\n"
     ]
    },
    {
     "ename": "NameError",
     "evalue": "name 'sentences' is not defined",
     "output_type": "error",
     "traceback": [
      "\u001b[0;31m---------------------------------------------------------------------------\u001b[0m",
      "\u001b[0;31mNameError\u001b[0m                                 Traceback (most recent call last)",
      "\u001b[0;32m<ipython-input-4-ec6e64be598b>\u001b[0m in \u001b[0;36m<module>\u001b[0;34m()\u001b[0m\n\u001b[1;32m      4\u001b[0m     \u001b[0msession\u001b[0m \u001b[0;34m=\u001b[0m \u001b[0mtf\u001b[0m\u001b[0;34m.\u001b[0m\u001b[0mInteractiveSession\u001b[0m\u001b[0;34m(\u001b[0m\u001b[0;34m)\u001b[0m\u001b[0;34m\u001b[0m\u001b[0m\n\u001b[1;32m      5\u001b[0m     \u001b[0mtrain_poetry\u001b[0m\u001b[0;34m(\u001b[0m\u001b[0msession\u001b[0m\u001b[0;34m,\u001b[0m\u001b[0mdims\u001b[0m\u001b[0;34m,\u001b[0m\u001b[0mfilename\u001b[0m\u001b[0;34m)\u001b[0m\u001b[0;34m\u001b[0m\u001b[0m\n\u001b[0;32m----> 6\u001b[0;31m     \u001b[0mgenerate_poetry\u001b[0m\u001b[0;34m(\u001b[0m\u001b[0msession\u001b[0m\u001b[0;34m,\u001b[0m\u001b[0mfilename\u001b[0m\u001b[0;34m)\u001b[0m\u001b[0;34m\u001b[0m\u001b[0m\n\u001b[0m",
      "\u001b[0;32m<ipython-input-3-0185eaca5941>\u001b[0m in \u001b[0;36mgenerate_poetry\u001b[0;34m(session, filename)\u001b[0m\n\u001b[1;32m      4\u001b[0m     \u001b[0mV\u001b[0m \u001b[0;34m=\u001b[0m \u001b[0mlen\u001b[0m\u001b[0;34m(\u001b[0m\u001b[0mword2idx\u001b[0m\u001b[0;34m)\u001b[0m\u001b[0;34m\u001b[0m\u001b[0m\n\u001b[1;32m      5\u001b[0m     \u001b[0mpi\u001b[0m \u001b[0;34m=\u001b[0m \u001b[0mnp\u001b[0m\u001b[0;34m.\u001b[0m\u001b[0mzeros\u001b[0m\u001b[0;34m(\u001b[0m\u001b[0mV\u001b[0m\u001b[0;34m)\u001b[0m\u001b[0;34m\u001b[0m\u001b[0m\n\u001b[0;32m----> 6\u001b[0;31m     \u001b[0;32mfor\u001b[0m \u001b[0ms\u001b[0m \u001b[0;32min\u001b[0m \u001b[0msentences\u001b[0m\u001b[0;34m:\u001b[0m\u001b[0;34m\u001b[0m\u001b[0m\n\u001b[0m\u001b[1;32m      7\u001b[0m         \u001b[0mpi\u001b[0m\u001b[0;34m[\u001b[0m\u001b[0msetences\u001b[0m\u001b[0;34m[\u001b[0m\u001b[0;36m0\u001b[0m\u001b[0;34m]\u001b[0m\u001b[0;34m]\u001b[0m\u001b[0;34m+=\u001b[0m\u001b[0;36m1\u001b[0m\u001b[0;34m\u001b[0m\u001b[0m\n\u001b[1;32m      8\u001b[0m     \u001b[0mpi\u001b[0m\u001b[0;34m/=\u001b[0m\u001b[0mpi\u001b[0m\u001b[0;34m.\u001b[0m\u001b[0msum\u001b[0m\u001b[0;34m(\u001b[0m\u001b[0;34m)\u001b[0m\u001b[0;34m\u001b[0m\u001b[0m\n",
      "\u001b[0;31mNameError\u001b[0m: name 'sentences' is not defined"
     ]
    }
   ],
   "source": [
    "if __name__=='__main__':\n",
    "    dims = 50\n",
    "    filename = 'RNN_D50_M50_tf.npz'\n",
    "    session = tf.InteractiveSession()\n",
    "    train_poetry(session,dims,filename)\n",
    "    generate_poetry(session,filename)"
   ]
  },
  {
   "cell_type": "code",
   "execution_count": null,
   "metadata": {
    "collapsed": true
   },
   "outputs": [],
   "source": []
  }
 ],
 "metadata": {
  "kernelspec": {
   "display_name": "Python 3",
   "language": "python",
   "name": "python3"
  },
  "language_info": {
   "codemirror_mode": {
    "name": "ipython",
    "version": 3
   },
   "file_extension": ".py",
   "mimetype": "text/x-python",
   "name": "python",
   "nbconvert_exporter": "python",
   "pygments_lexer": "ipython3",
   "version": "3.6.1"
  }
 },
 "nbformat": 4,
 "nbformat_minor": 2
}
